{
 "cells": [
  {
   "cell_type": "markdown",
   "metadata": {},
   "source": [
    "<div style=\"font-size:22pt; line-height:25pt; font-weight:bold; text-align:center;\">Creating Chatbots and recognizing entities</div>\n",
    "\n",
    "In this exercice, we will apply the example of text classification studied previously to the creation of chatbots.\n",
    "\n",
    "Building an agent capable of handling conversations is usually performed through the following steps:\n",
    "1. We apply text classification techniques to the utterance typed by the user, in order to detect the **intent** of the user (e.g. \"applying for a loan\", \"purchasing a product from a store\", \"asking about the weather\", etc)\n",
    "2. In addition to detecting intent, we extract **Named Entities** from the utterance (e.g. location names, currency amounts, etc...)\n",
    "3. We use the extracted intents and entities to decide how the chatbot should reply\n",
    "\n",
    "In this exercise, we will use the open source chatbot framework **Rasa** to build the chatbot. It includes the package *Rasa NLU* that performs NLU tasks such as entity extraction and intent classification, as well as *Rasa Core*, that manages the conversational aspects.\n",
    "\n",
    "# 1. Using Rasa\n",
    "\n",
    "Rasa runs code asynchronously. The following cell configures the notebook for Rasa use. See [the documentation of Rasa](https://rasa.com/docs/rasa/api/jupyter-notebooks/) for more information.\n"
   ]
  },
  {
   "cell_type": "code",
   "execution_count": 1,
   "metadata": {},
   "outputs": [],
   "source": [
    "import nest_asyncio\n",
    "\n",
    "nest_asyncio.apply()\n",
    "\n",
    "\n",
    "# Rasa will throw plenty of warnings during execution. This line gets rid of them, for lisibility. \n",
    "# Just comment it to keep the warnings if desired\n",
    "import warnings\n",
    "warnings.simplefilter('ignore')"
   ]
  },
  {
   "cell_type": "markdown",
   "metadata": {},
   "source": [
    "Rasa chatbot project folders follow a precise structure to function. Important files to consider are:\n",
    "1. A **config.yml** file defining the language of the chatbot, the methods used for intent classification, etc...\n",
    "2. A **domain.yml** file, defining the intents and entities covered by the chatbot, as well as the utterances and actions it will use. Generally, most of the engineering of chatbots goes towards this file.\n",
    "3. A **nlu** file (Rasa uses json or md files), containing the training samples for intent classification and entity extraction.\n",
    "4. A **stories** file, contaning the different scenariis of interaction between the user and the bot. This file defines how to associate bot actions and intents/entities.\n",
    "\n",
    "When starting a new project, Rasa provides a useful function that prepares the folder structure:"
   ]
  },
  {
   "cell_type": "code",
   "execution_count": 2,
   "metadata": {},
   "outputs": [],
   "source": [
    "from rasa.cli.scaffold import create_initial_project\n",
    "\n",
    "project = \"my_new_chatbot_project\"\n",
    "create_initial_project(project)"
   ]
  },
  {
   "cell_type": "markdown",
   "metadata": {},
   "source": [
    "# 2. Building our first chatbot"
   ]
  },
  {
   "cell_type": "code",
   "execution_count": 4,
   "metadata": {},
   "outputs": [],
   "source": [
    "#project location\n",
    "project = \"chatbot_projects/1_simple_clockbot/\"\n",
    "\n",
    "#path to config, domain, nlu and stories files\n",
    "config = project+\"config.yml\"\n",
    "domain = project+\"domain.yml\"\n",
    "training_files = project+\"data/\"\n",
    "\n",
    "#where to store the models\n",
    "output = project+\"models/\""
   ]
  },
  {
   "cell_type": "markdown",
   "metadata": {},
   "source": [
    "Our first chatbot is meant to be a simple clockbot (a chatbot that gives the time). Let's go through the structure of the files to perform this task.\n",
    "\n",
    "## 2.a. config file\n",
    "\n",
    "```\n",
    "# Configuration for Rasa NLU.\n",
    "# https://rasa.com/docs/rasa/nlu/components/\n",
    "language: fr\n",
    "pipeline: supervised_embeddings\n",
    "```\n",
    "\n",
    "The chatbot is meant to be in french. The pipeline we use is the default Rasa one, **supervised_embeddings**.\n",
    "\n",
    "In the text classification examples we saw in the previous exercise, we learnt individual vector representations of every word in our corpus, and used these as features for classification. We saw that it causes issues with out-of-vocabulary (OOV) words, and with model storage. The main modification to embeddings proposed by Rasa is to learn intent representations as ell as words'. This means that any input sequence can be judged in terms of similarity with an intent, making it easier and less costly to perform classification. You can read more about this [here](https://medium.com/rasa-blog/supervised-word-vectors-from-scratch-in-rasa-nlu-6daf794efcd8)\n",
    "\n",
    "## 2.b. domain file\n",
    "\n",
    "```\n",
    "intents:\n",
    "  - greet\n",
    "  - ask_time\n",
    "\n",
    "actions:\n",
    "- utter_greet\n",
    "- utter_time\n",
    "\n",
    "templates:\n",
    "  utter_greet:\n",
    "  - text: \"Bien le bonjour !\"\n",
    "  utter_time:\n",
    "  - text: \"Il est 10h\"\n",
    "```\n",
    "\n",
    "As introduced earlier, this first chatbot will:\n",
    "- cover 2 intents (greeting and asking what time it is)\n",
    "- perform only two possible actions (greet the user back, or give the time)\n",
    "\n",
    "Both actions performed by the chatbot in this example are single utterances, defined within the file itself. It would be possible to declare more complex actions, ran separately in an \"action server\" (see [the documentation](https://rasa.com/docs/rasa/core/actions/#actions)). As the objective of this exercise is not to define an action server, but rather to explore machine learning capabilities of chatbots, we propose to simplify the problem by creating a dumb clockbot stuck at 10 o'clock.\n",
    "\n",
    "## 2.c. stories file\n",
    "\n",
    "```\n",
    "## greet path\n",
    "* greet\n",
    "  - utter_greet\n",
    "\n",
    "## time_path_polite\n",
    "* greet\n",
    "  - utter_greet\n",
    "* ask_time\n",
    "  - utter_time\n",
    "  - action_restart\n",
    "```\n",
    "\n",
    "We define only two main scenarii for interaction with this chatbot :\n",
    "- the user greets the chatbot, but interacts no further\n",
    "- the user greets the chatbot, then asks what time it is (the action_restart at the end of this path reinitializes the bot once it has given the time)\n",
    "\n",
    "Note that we have not defined a scenario where the user would ask the time without greeting the robot first (we will cover this in the next exercise).\n",
    "\n",
    "## 2.d. nlu file\n",
    "\n",
    "```\n",
    "## intent:greet\n",
    "- salut\n",
    "- hello\n",
    "- yo\n",
    "- slt\n",
    "- bonjour\n",
    "- bonsoir\n",
    "\n",
    "## intent:ask_time\n",
    "- il est quelle heure ?\n",
    "- quelle heure est-il\n",
    "- t'as l'heure stp ?\n",
    "```\n",
    "\n",
    "This file contains examples for all the intents that we have defined for the chatbot. Note that we included some examples containing abbreviations, mispellings, etc... Even if NLU models are designed to be robust to misspellings when trained on correctly spelled utterances, it is a good practice to include examples \"from the real world\" for each intent, and to include them as such (without correcting misspellings).\n",
    "\n",
    "## 2.e. Training the chatbot\n"
   ]
  },
  {
   "cell_type": "code",
   "execution_count": 5,
   "metadata": {},
   "outputs": [
    {
     "name": "stdout",
     "output_type": "stream",
     "text": [
      "\u001b[92mNothing changed. You can use the old model stored at 'C:\\Users\\DURANTGA\\Documents\\Pédagogie\\MLclass\\12 - Natural Language Processing\\chatbot_projects\\1_simple_clockbot\\models\\20201130-150104.tar.gz'.\u001b[0m\n"
     ]
    }
   ],
   "source": [
    "import rasa\n",
    "\n",
    "#training the model and saving the path where the model is stored\n",
    "model_path = rasa.train(domain, config, [training_files], output)\n"
   ]
  },
  {
   "cell_type": "markdown",
   "metadata": {},
   "source": [
    "## 2.f. Using the chatbot\n",
    "\n"
   ]
  },
  {
   "cell_type": "code",
   "execution_count": 6,
   "metadata": {},
   "outputs": [
    {
     "name": "stdout",
     "output_type": "stream",
     "text": [
      "WARNING:tensorflow:\n",
      "The TensorFlow contrib module will not be included in TensorFlow 2.0.\n",
      "For more information, please see:\n",
      "  * https://github.com/tensorflow/community/blob/master/rfcs/20180907-contrib-sunset.md\n",
      "  * https://github.com/tensorflow/addons\n",
      "  * https://github.com/tensorflow/io (for I/O related ops)\n",
      "If you depend on functionality not listed there, please file an issue.\n",
      "\n",
      "WARNING:tensorflow:From c:\\users\\durantga\\appdata\\local\\continuum\\anaconda3\\envs\\courssup\\lib\\site-packages\\tensor2tensor\\utils\\adafactor.py:27: The name tf.train.Optimizer is deprecated. Please use tf.compat.v1.train.Optimizer instead.\n",
      "\n",
      "WARNING:tensorflow:From c:\\users\\durantga\\appdata\\local\\continuum\\anaconda3\\envs\\courssup\\lib\\site-packages\\tensor2tensor\\utils\\multistep_optimizer.py:32: The name tf.train.AdamOptimizer is deprecated. Please use tf.compat.v1.train.AdamOptimizer instead.\n",
      "\n",
      "WARNING:tensorflow:Failed to load tensor2tensor\n",
      "WARNING:tensorflow:From c:\\users\\durantga\\appdata\\local\\continuum\\anaconda3\\envs\\courssup\\lib\\site-packages\\tensor2tensor\\models\\research\\glow_init_hook.py:25: The name tf.train.SessionRunHook is deprecated. Please use tf.estimator.SessionRunHook instead.\n",
      "\n",
      "WARNING:tensorflow:From c:\\users\\durantga\\appdata\\local\\continuum\\anaconda3\\envs\\courssup\\lib\\site-packages\\tensor2tensor\\models\\research\\neural_stack.py:51: The name tf.nn.rnn_cell.RNNCell is deprecated. Please use tf.compat.v1.nn.rnn_cell.RNNCell instead.\n",
      "\n",
      "WARNING:tensorflow:From c:\\users\\durantga\\appdata\\local\\continuum\\anaconda3\\envs\\courssup\\lib\\site-packages\\tensor2tensor\\utils\\trainer_lib.py:111: The name tf.OptimizerOptions is deprecated. Please use tf.compat.v1.OptimizerOptions instead.\n",
      "\n"
     ]
    },
    {
     "name": "stderr",
     "output_type": "stream",
     "text": [
      "WARNING:tensorflow:From c:\\users\\durantga\\appdata\\local\\continuum\\anaconda3\\envs\\courssup\\lib\\site-packages\\tensor2tensor\\utils\\trainer_lib.py:111: The name tf.OptimizerOptions is deprecated. Please use tf.compat.v1.OptimizerOptions instead.\n",
      "\n"
     ]
    },
    {
     "name": "stdout",
     "output_type": "stream",
     "text": [
      "WARNING:tensorflow:From c:\\users\\durantga\\appdata\\local\\continuum\\anaconda3\\envs\\courssup\\lib\\site-packages\\tensorflow_gan\\python\\estimator\\tpu_gan_estimator.py:42: The name tf.estimator.tpu.TPUEstimator is deprecated. Please use tf.compat.v1.estimator.tpu.TPUEstimator instead.\n",
      "\n"
     ]
    },
    {
     "name": "stderr",
     "output_type": "stream",
     "text": [
      "WARNING:tensorflow:From c:\\users\\durantga\\appdata\\local\\continuum\\anaconda3\\envs\\courssup\\lib\\site-packages\\tensorflow_gan\\python\\estimator\\tpu_gan_estimator.py:42: The name tf.estimator.tpu.TPUEstimator is deprecated. Please use tf.compat.v1.estimator.tpu.TPUEstimator instead.\n",
      "\n"
     ]
    },
    {
     "name": "stdout",
     "output_type": "stream",
     "text": [
      "INFO:tensorflow:Restoring parameters from C:\\Users\\DURANTGA\\AppData\\Local\\Temp\\1\\tmplz3gd8ht\\nlu\\component_6_EmbeddingIntentClassifier.ckpt\n"
     ]
    },
    {
     "name": "stderr",
     "output_type": "stream",
     "text": [
      "INFO:tensorflow:Restoring parameters from C:\\Users\\DURANTGA\\AppData\\Local\\Temp\\1\\tmplz3gd8ht\\nlu\\component_6_EmbeddingIntentClassifier.ckpt\n"
     ]
    },
    {
     "name": "stdout",
     "output_type": "stream",
     "text": [
      "WARNING:tensorflow:From c:\\users\\durantga\\appdata\\local\\continuum\\anaconda3\\envs\\courssup\\lib\\site-packages\\rasa\\utils\\train_utils.py:1269: The name tf.get_collection is deprecated. Please use tf.compat.v1.get_collection instead.\n",
      "\n"
     ]
    },
    {
     "name": "stderr",
     "output_type": "stream",
     "text": [
      "WARNING:tensorflow:From c:\\users\\durantga\\appdata\\local\\continuum\\anaconda3\\envs\\courssup\\lib\\site-packages\\rasa\\utils\\train_utils.py:1269: The name tf.get_collection is deprecated. Please use tf.compat.v1.get_collection instead.\n",
      "\n"
     ]
    },
    {
     "name": "stdout",
     "output_type": "stream",
     "text": [
      "WARNING:tensorflow:From c:\\users\\durantga\\appdata\\local\\continuum\\anaconda3\\envs\\courssup\\lib\\site-packages\\tensorflow_core\\python\\ops\\init_ops.py:97: calling GlorotUniform.__init__ (from tensorflow.python.ops.init_ops) with dtype is deprecated and will be removed in a future version.\n",
      "Instructions for updating:\n",
      "Call initializer instance with the dtype argument instead of passing it to the constructor\n"
     ]
    },
    {
     "name": "stderr",
     "output_type": "stream",
     "text": [
      "WARNING:tensorflow:From c:\\users\\durantga\\appdata\\local\\continuum\\anaconda3\\envs\\courssup\\lib\\site-packages\\tensorflow_core\\python\\ops\\init_ops.py:97: calling GlorotUniform.__init__ (from tensorflow.python.ops.init_ops) with dtype is deprecated and will be removed in a future version.\n",
      "Instructions for updating:\n",
      "Call initializer instance with the dtype argument instead of passing it to the constructor\n"
     ]
    },
    {
     "name": "stdout",
     "output_type": "stream",
     "text": [
      "WARNING:tensorflow:From c:\\users\\durantga\\appdata\\local\\continuum\\anaconda3\\envs\\courssup\\lib\\site-packages\\tensorflow_core\\python\\ops\\init_ops.py:97: calling Orthogonal.__init__ (from tensorflow.python.ops.init_ops) with dtype is deprecated and will be removed in a future version.\n",
      "Instructions for updating:\n",
      "Call initializer instance with the dtype argument instead of passing it to the constructor\n"
     ]
    },
    {
     "name": "stderr",
     "output_type": "stream",
     "text": [
      "WARNING:tensorflow:From c:\\users\\durantga\\appdata\\local\\continuum\\anaconda3\\envs\\courssup\\lib\\site-packages\\tensorflow_core\\python\\ops\\init_ops.py:97: calling Orthogonal.__init__ (from tensorflow.python.ops.init_ops) with dtype is deprecated and will be removed in a future version.\n",
      "Instructions for updating:\n",
      "Call initializer instance with the dtype argument instead of passing it to the constructor\n"
     ]
    },
    {
     "name": "stdout",
     "output_type": "stream",
     "text": [
      "WARNING:tensorflow:From c:\\users\\durantga\\appdata\\local\\continuum\\anaconda3\\envs\\courssup\\lib\\site-packages\\tensorflow_core\\python\\ops\\init_ops.py:97: calling Zeros.__init__ (from tensorflow.python.ops.init_ops) with dtype is deprecated and will be removed in a future version.\n",
      "Instructions for updating:\n",
      "Call initializer instance with the dtype argument instead of passing it to the constructor\n"
     ]
    },
    {
     "name": "stderr",
     "output_type": "stream",
     "text": [
      "WARNING:tensorflow:From c:\\users\\durantga\\appdata\\local\\continuum\\anaconda3\\envs\\courssup\\lib\\site-packages\\tensorflow_core\\python\\ops\\init_ops.py:97: calling Zeros.__init__ (from tensorflow.python.ops.init_ops) with dtype is deprecated and will be removed in a future version.\n",
      "Instructions for updating:\n",
      "Call initializer instance with the dtype argument instead of passing it to the constructor\n"
     ]
    },
    {
     "name": "stdout",
     "output_type": "stream",
     "text": [
      "WARNING:tensorflow:From c:\\users\\durantga\\appdata\\local\\continuum\\anaconda3\\envs\\courssup\\lib\\site-packages\\tensorflow_core\\python\\ops\\resource_variable_ops.py:1630: calling BaseResourceVariable.__init__ (from tensorflow.python.ops.resource_variable_ops) with constraint is deprecated and will be removed in a future version.\n",
      "Instructions for updating:\n",
      "If using Keras pass *_constraint arguments to layers.\n"
     ]
    },
    {
     "name": "stderr",
     "output_type": "stream",
     "text": [
      "WARNING:tensorflow:From c:\\users\\durantga\\appdata\\local\\continuum\\anaconda3\\envs\\courssup\\lib\\site-packages\\tensorflow_core\\python\\ops\\resource_variable_ops.py:1630: calling BaseResourceVariable.__init__ (from tensorflow.python.ops.resource_variable_ops) with constraint is deprecated and will be removed in a future version.\n",
      "Instructions for updating:\n",
      "If using Keras pass *_constraint arguments to layers.\n"
     ]
    },
    {
     "name": "stdout",
     "output_type": "stream",
     "text": [
      "WARNING:tensorflow:From c:\\users\\durantga\\appdata\\local\\continuum\\anaconda3\\envs\\courssup\\lib\\site-packages\\tensorflow_core\\python\\keras\\backend.py:3994: where (from tensorflow.python.ops.array_ops) is deprecated and will be removed in a future version.\n",
      "Instructions for updating:\n",
      "Use tf.where in 2.0, which has the same broadcast rule as np.where\n"
     ]
    },
    {
     "name": "stderr",
     "output_type": "stream",
     "text": [
      "WARNING:tensorflow:From c:\\users\\durantga\\appdata\\local\\continuum\\anaconda3\\envs\\courssup\\lib\\site-packages\\tensorflow_core\\python\\keras\\backend.py:3994: where (from tensorflow.python.ops.array_ops) is deprecated and will be removed in a future version.\n",
      "Instructions for updating:\n",
      "Use tf.where in 2.0, which has the same broadcast rule as np.where\n"
     ]
    },
    {
     "name": "stdout",
     "output_type": "stream",
     "text": [
      "Your bot is ready to talk! Type your messages here or send '/stop'.\n",
      "bonjour\n",
      "\u001b[92mBien le bonjour !\u001b[0m\n",
      "il est kel heur\n",
      "\u001b[92mIl est 10h\u001b[0m\n",
      "merci\n",
      "\u001b[92mBien le bonjour !\u001b[0m\n",
      "/stop\n"
     ]
    }
   ],
   "source": [
    "from rasa.jupyter import chat\n",
    "chat(model_path)"
   ]
  },
  {
   "cell_type": "markdown",
   "metadata": {},
   "source": [
    "## 2.g. Checking the behaviour of the bot classifier\n",
    "\n",
    "In this section, we will cofirm the resilience of the bot to mistakes during typing.\n",
    "We first load the model in to an agent."
   ]
  },
  {
   "cell_type": "code",
   "execution_count": 7,
   "metadata": {},
   "outputs": [
    {
     "name": "stdout",
     "output_type": "stream",
     "text": [
      "INFO:tensorflow:Restoring parameters from C:\\Users\\DURANTGA\\AppData\\Local\\Temp\\1\\tmpknowcmfd\\nlu\\component_6_EmbeddingIntentClassifier.ckpt\n"
     ]
    },
    {
     "name": "stderr",
     "output_type": "stream",
     "text": [
      "INFO:tensorflow:Restoring parameters from C:\\Users\\DURANTGA\\AppData\\Local\\Temp\\1\\tmpknowcmfd\\nlu\\component_6_EmbeddingIntentClassifier.ckpt\n"
     ]
    }
   ],
   "source": [
    "from rasa.core.agent import Agent\n",
    "agent=Agent.load(model_path)"
   ]
  },
  {
   "cell_type": "markdown",
   "metadata": {},
   "source": [
    "Using the following code, we can then parse various messages and see how the nlu classifier ranks them.\n",
    "We can check that :\n",
    "- standard messages for the intents (e.g. \"salut\") get classified correctly, with very high confidence levels\n",
    "- messages that vary quite extensively from the canonial question used during training can sill get classified correctly, but with lower confidence levels (e.g. using sms-style \"kel h?\")\n",
    "- if the messages differ too much from the samples used during training, the confidence level will decrease dramatically. \n",
    "\n",
    "**WARNING** : This example can be biased, as we are using only two intents (classes) with very different syntax (greetings are mostly single words, while more complex sentences are used to ask for time) "
   ]
  },
  {
   "cell_type": "code",
   "execution_count": 8,
   "metadata": {},
   "outputs": [
    {
     "data": {
      "text/plain": [
       "{'intent': {'name': 'greet', 'confidence': 0.9957964420318604},\n",
       " 'entities': [],\n",
       " 'intent_ranking': [{'name': 'greet', 'confidence': 0.9957964420318604},\n",
       "  {'name': 'ask_time', 'confidence': 0.004203528631478548}],\n",
       " 'text': 'salut'}"
      ]
     },
     "execution_count": 8,
     "metadata": {},
     "output_type": "execute_result"
    }
   ],
   "source": [
    "await agent.parse_message_using_nlu_interpreter(\"salut\")"
   ]
  },
  {
   "cell_type": "code",
   "execution_count": 9,
   "metadata": {},
   "outputs": [
    {
     "data": {
      "text/plain": [
       "{'intent': {'name': 'ask_time', 'confidence': 0.5475245118141174},\n",
       " 'entities': [],\n",
       " 'intent_ranking': [{'name': 'ask_time', 'confidence': 0.5475245118141174},\n",
       "  {'name': 'greet', 'confidence': 0.4524754583835602}],\n",
       " 'text': 'kel h'}"
      ]
     },
     "execution_count": 9,
     "metadata": {},
     "output_type": "execute_result"
    }
   ],
   "source": [
    "await agent.parse_message_using_nlu_interpreter(\"kel h\")"
   ]
  },
  {
   "cell_type": "code",
   "execution_count": 10,
   "metadata": {},
   "outputs": [
    {
     "data": {
      "text/plain": [
       "{'intent': {'name': 'greet', 'confidence': 0.5708716511726379},\n",
       " 'entities': [],\n",
       " 'intent_ranking': [{'name': 'greet', 'confidence': 0.5708716511726379},\n",
       "  {'name': 'ask_time', 'confidence': 0.4291284382343292}],\n",
       " 'text': 'compte'}"
      ]
     },
     "execution_count": 10,
     "metadata": {},
     "output_type": "execute_result"
    }
   ],
   "source": [
    "await agent.parse_message_using_nlu_interpreter(\"compte\")"
   ]
  },
  {
   "cell_type": "markdown",
   "metadata": {},
   "source": [
    "# 3. Adding different paths\n",
    "\n",
    "In the previous example, we did not consider the case when a user would ask what time it is without greeting the bot first. In this example, we propose to adapt the scenarii of user interaction to handle those cases.\n",
    "\n",
    "The main modification is located in the **stories** file, where the following story is added :\n",
    "```\n",
    "## time_path_impolite\n",
    "* ask_time\n",
    "  - utter_impolite\n",
    "```\n",
    "\n",
    "Note that an action (utterance) has been added to handle the situation where the bot gets offended because the user did not greet it. This is also reflected in the **domain.yml** file."
   ]
  },
  {
   "cell_type": "code",
   "execution_count": 11,
   "metadata": {},
   "outputs": [],
   "source": [
    "#project location\n",
    "project = \"chatbot_projects/2_obnoxious_clockbot/\"\n",
    "\n",
    "#path to config, domain, nlu and stories files\n",
    "config = project+\"config.yml\"\n",
    "domain = project+\"domain.yml\"\n",
    "training_files = project+\"data/\"\n",
    "\n",
    "#where to store the models\n",
    "output = project+\"models/\""
   ]
  },
  {
   "cell_type": "markdown",
   "metadata": {},
   "source": [
    "Let's train our bot and run it !"
   ]
  },
  {
   "cell_type": "code",
   "execution_count": 12,
   "metadata": {},
   "outputs": [
    {
     "name": "stdout",
     "output_type": "stream",
     "text": [
      "\u001b[94mTraining Core model...\u001b[0m\n"
     ]
    },
    {
     "name": "stderr",
     "output_type": "stream",
     "text": [
      "Processed Story Blocks: 100%|█████████████████████████████████████████████| 3/3 [00:00<00:00, 375.99it/s, # trackers=1]\n",
      "Processed Story Blocks: 100%|█████████████████████████████████████████████| 3/3 [00:00<00:00, 300.76it/s, # trackers=3]\n",
      "Processed Story Blocks: 100%|████████████████████████████████████████████| 3/3 [00:00<00:00, 158.31it/s, # trackers=12]\n",
      "Processed Story Blocks: 100%|█████████████████████████████████████████████| 3/3 [00:00<00:00, 79.15it/s, # trackers=24]\n",
      "Processed trackers: 100%|██████████████████████████████████████████████████| 3/3 [00:00<00:00, 100.27it/s, # actions=7]\n",
      "Processed actions: 7it [00:00, 412.77it/s, # examples=7]\n",
      "Processed trackers: 100%|██████████████████████████████████████████████| 102/102 [00:02<00:00, 49.59it/s, # actions=49]"
     ]
    },
    {
     "name": "stdout",
     "output_type": "stream",
     "text": [
      "WARNING:tensorflow:From c:\\users\\durantga\\appdata\\local\\continuum\\anaconda3\\envs\\courssup\\lib\\site-packages\\rasa\\core\\policies\\keras_policy.py:184: The name tf.set_random_seed is deprecated. Please use tf.compat.v1.set_random_seed instead.\n",
      "\n"
     ]
    },
    {
     "name": "stderr",
     "output_type": "stream",
     "text": [
      "\n",
      "WARNING:tensorflow:From c:\\users\\durantga\\appdata\\local\\continuum\\anaconda3\\envs\\courssup\\lib\\site-packages\\rasa\\core\\policies\\keras_policy.py:184: The name tf.set_random_seed is deprecated. Please use tf.compat.v1.set_random_seed instead.\n",
      "\n"
     ]
    },
    {
     "name": "stdout",
     "output_type": "stream",
     "text": [
      "Model: \"sequential\"\n",
      "_________________________________________________________________\n",
      "Layer (type)                 Output Shape              Param #   \n",
      "=================================================================\n",
      "masking (Masking)            (None, 5, 14)             0         \n",
      "_________________________________________________________________\n",
      "lstm (LSTM)                  (None, 32)                6016      \n",
      "_________________________________________________________________\n",
      "dense (Dense)                (None, 12)                396       \n",
      "_________________________________________________________________\n",
      "activation (Activation)      (None, 12)                0         \n",
      "=================================================================\n",
      "Total params: 6,412\n",
      "Trainable params: 6,412\n",
      "Non-trainable params: 0\n",
      "_________________________________________________________________\n",
      "Train on 49 samples\n",
      "Epoch 1/100\n",
      "49/49 [==============================] - 1s 12ms/sample - loss: 2.5733 - acc: 0.0204\n",
      "Epoch 2/100\n",
      "49/49 [==============================] - 0s 529us/sample - loss: 2.5304 - acc: 0.0204\n",
      "Epoch 3/100\n",
      "49/49 [==============================] - 0s 468us/sample - loss: 2.4976 - acc: 0.0408\n",
      "Epoch 4/100\n",
      "49/49 [==============================] - 0s 448us/sample - loss: 2.4658 - acc: 0.0408\n",
      "Epoch 5/100\n",
      "49/49 [==============================] - 0s 326us/sample - loss: 2.4301 - acc: 0.0612\n",
      "Epoch 6/100\n",
      "49/49 [==============================] - 0s 550us/sample - loss: 2.4022 - acc: 0.1224\n",
      "Epoch 7/100\n",
      "49/49 [==============================] - 0s 509us/sample - loss: 2.3820 - acc: 0.2041\n",
      "Epoch 8/100\n",
      "49/49 [==============================] - 0s 529us/sample - loss: 2.3577 - acc: 0.3673\n",
      "Epoch 9/100\n",
      "49/49 [==============================] - 0s 387us/sample - loss: 2.3342 - acc: 0.4694\n",
      "Epoch 10/100\n",
      "49/49 [==============================] - 0s 407us/sample - loss: 2.2791 - acc: 0.5306\n",
      "Epoch 11/100\n",
      "49/49 [==============================] - 0s 387us/sample - loss: 2.2681 - acc: 0.5306\n",
      "Epoch 12/100\n",
      "49/49 [==============================] - 0s 326us/sample - loss: 2.2368 - acc: 0.5102\n",
      "Epoch 13/100\n",
      "49/49 [==============================] - 0s 285us/sample - loss: 2.2013 - acc: 0.5102\n",
      "Epoch 14/100\n",
      "49/49 [==============================] - 0s 529us/sample - loss: 2.1633 - acc: 0.5102\n",
      "Epoch 15/100\n",
      "49/49 [==============================] - 0s 265us/sample - loss: 2.1164 - acc: 0.5102\n",
      "Epoch 16/100\n",
      "49/49 [==============================] - 0s 448us/sample - loss: 2.0464 - acc: 0.5102\n",
      "Epoch 17/100\n",
      "49/49 [==============================] - 0s 346us/sample - loss: 2.0232 - acc: 0.5102\n",
      "Epoch 18/100\n",
      "49/49 [==============================] - 0s 326us/sample - loss: 1.9697 - acc: 0.5102\n",
      "Epoch 19/100\n",
      "49/49 [==============================] - 0s 489us/sample - loss: 1.9206 - acc: 0.5102\n",
      "Epoch 20/100\n",
      "49/49 [==============================] - 0s 407us/sample - loss: 1.8671 - acc: 0.5102\n",
      "Epoch 21/100\n",
      "49/49 [==============================] - 0s 479us/sample - loss: 1.8146 - acc: 0.5102\n",
      "Epoch 22/100\n",
      "49/49 [==============================] - 0s 489us/sample - loss: 1.7701 - acc: 0.5102\n",
      "Epoch 23/100\n",
      "49/49 [==============================] - 0s 387us/sample - loss: 1.7478 - acc: 0.5102\n",
      "Epoch 24/100\n",
      "49/49 [==============================] - 0s 387us/sample - loss: 1.6896 - acc: 0.5102\n",
      "Epoch 25/100\n",
      "49/49 [==============================] - 0s 275us/sample - loss: 1.6827 - acc: 0.5102\n",
      "Epoch 26/100\n",
      "49/49 [==============================] - ETA: 0s - loss: 1.6708 - acc: 0.531 - 0s 285us/sample - loss: 1.6460 - acc: 0.5102\n",
      "Epoch 27/100\n",
      "49/49 [==============================] - 0s 325us/sample - loss: 1.6062 - acc: 0.5102\n",
      "Epoch 28/100\n",
      "49/49 [==============================] - 0s 305us/sample - loss: 1.6107 - acc: 0.5102\n",
      "Epoch 29/100\n",
      "49/49 [==============================] - 0s 387us/sample - loss: 1.5540 - acc: 0.5102\n",
      "Epoch 30/100\n",
      "49/49 [==============================] - 0s 326us/sample - loss: 1.5433 - acc: 0.5102\n",
      "Epoch 31/100\n",
      "49/49 [==============================] - 0s 428us/sample - loss: 1.5395 - acc: 0.5102\n",
      "Epoch 32/100\n",
      "49/49 [==============================] - 0s 407us/sample - loss: 1.4959 - acc: 0.5102\n",
      "Epoch 33/100\n",
      "49/49 [==============================] - 0s 305us/sample - loss: 1.4396 - acc: 0.5102\n",
      "Epoch 34/100\n",
      "49/49 [==============================] - 0s 427us/sample - loss: 1.4722 - acc: 0.5102\n",
      "Epoch 35/100\n",
      "49/49 [==============================] - 0s 285us/sample - loss: 1.4540 - acc: 0.5102\n",
      "Epoch 36/100\n",
      "49/49 [==============================] - 0s 265us/sample - loss: 1.4201 - acc: 0.5102\n",
      "Epoch 37/100\n",
      "49/49 [==============================] - 0s 265us/sample - loss: 1.4029 - acc: 0.5102\n",
      "Epoch 38/100\n",
      "49/49 [==============================] - 0s 346us/sample - loss: 1.3786 - acc: 0.5102\n",
      "Epoch 39/100\n",
      "49/49 [==============================] - 0s 366us/sample - loss: 1.3813 - acc: 0.5102\n",
      "Epoch 40/100\n",
      "49/49 [==============================] - 0s 305us/sample - loss: 1.3442 - acc: 0.5102\n",
      "Epoch 41/100\n",
      "49/49 [==============================] - 0s 265us/sample - loss: 1.3550 - acc: 0.5102\n",
      "Epoch 42/100\n",
      "49/49 [==============================] - 0s 306us/sample - loss: 1.3432 - acc: 0.5102\n",
      "Epoch 43/100\n",
      "49/49 [==============================] - 0s 265us/sample - loss: 1.2969 - acc: 0.5102\n",
      "Epoch 44/100\n",
      "49/49 [==============================] - 0s 468us/sample - loss: 1.3269 - acc: 0.5102\n",
      "Epoch 45/100\n",
      "49/49 [==============================] - 0s 305us/sample - loss: 1.2982 - acc: 0.5102\n",
      "Epoch 46/100\n",
      "49/49 [==============================] - 0s 285us/sample - loss: 1.3043 - acc: 0.5102\n",
      "Epoch 47/100\n",
      "49/49 [==============================] - 0s 326us/sample - loss: 1.2921 - acc: 0.5102\n",
      "Epoch 48/100\n",
      "49/49 [==============================] - 0s 265us/sample - loss: 1.2756 - acc: 0.5102\n",
      "Epoch 49/100\n",
      "49/49 [==============================] - 0s 427us/sample - loss: 1.2571 - acc: 0.5102\n",
      "Epoch 50/100\n",
      "49/49 [==============================] - 0s 265us/sample - loss: 1.2295 - acc: 0.5102\n",
      "Epoch 51/100\n",
      "49/49 [==============================] - 0s 346us/sample - loss: 1.2707 - acc: 0.5102\n",
      "Epoch 52/100\n",
      "49/49 [==============================] - 0s 326us/sample - loss: 1.2350 - acc: 0.5102\n",
      "Epoch 53/100\n",
      "49/49 [==============================] - 0s 428us/sample - loss: 1.2438 - acc: 0.5102\n",
      "Epoch 54/100\n",
      "49/49 [==============================] - 0s 448us/sample - loss: 1.2341 - acc: 0.5102\n",
      "Epoch 55/100\n",
      "49/49 [==============================] - 0s 366us/sample - loss: 1.2422 - acc: 0.5102\n",
      "Epoch 56/100\n",
      "49/49 [==============================] - 0s 336us/sample - loss: 1.2149 - acc: 0.5102\n",
      "Epoch 57/100\n",
      "49/49 [==============================] - 0s 305us/sample - loss: 1.1947 - acc: 0.5102\n",
      "Epoch 58/100\n",
      "49/49 [==============================] - 0s 305us/sample - loss: 1.2040 - acc: 0.5102\n",
      "Epoch 59/100\n",
      "49/49 [==============================] - 0s 407us/sample - loss: 1.2074 - acc: 0.5306\n",
      "Epoch 60/100\n",
      "49/49 [==============================] - 0s 1ms/sample - loss: 1.1893 - acc: 0.5306\n",
      "Epoch 61/100\n",
      "49/49 [==============================] - 0s 326us/sample - loss: 1.1757 - acc: 0.5306\n",
      "Epoch 62/100\n",
      "49/49 [==============================] - 0s 285us/sample - loss: 1.1898 - acc: 0.5510\n",
      "Epoch 63/100\n",
      "49/49 [==============================] - 0s 265us/sample - loss: 1.1735 - acc: 0.5306\n",
      "Epoch 64/100\n",
      "49/49 [==============================] - 0s 346us/sample - loss: 1.1501 - acc: 0.5306\n",
      "Epoch 65/100\n",
      "49/49 [==============================] - 0s 366us/sample - loss: 1.1443 - acc: 0.5510\n",
      "Epoch 66/100\n",
      "49/49 [==============================] - 0s 346us/sample - loss: 1.1548 - acc: 0.5306\n",
      "Epoch 67/100\n",
      "49/49 [==============================] - 0s 244us/sample - loss: 1.1522 - acc: 0.5918\n",
      "Epoch 68/100\n",
      "49/49 [==============================] - 0s 346us/sample - loss: 1.1557 - acc: 0.5510\n",
      "Epoch 69/100\n",
      "49/49 [==============================] - 0s 285us/sample - loss: 1.1404 - acc: 0.5510\n",
      "Epoch 70/100\n",
      "49/49 [==============================] - 0s 285us/sample - loss: 1.1464 - acc: 0.5714\n",
      "Epoch 71/100\n",
      "49/49 [==============================] - 0s 305us/sample - loss: 1.1149 - acc: 0.5510\n",
      "Epoch 72/100\n",
      "49/49 [==============================] - 0s 305us/sample - loss: 1.1263 - acc: 0.5510\n",
      "Epoch 73/100\n",
      "49/49 [==============================] - 0s 346us/sample - loss: 1.1291 - acc: 0.5714\n",
      "Epoch 74/100\n",
      "49/49 [==============================] - 0s 387us/sample - loss: 1.1089 - acc: 0.5510\n",
      "Epoch 75/100\n",
      "49/49 [==============================] - 0s 285us/sample - loss: 1.1405 - acc: 0.5918\n",
      "Epoch 76/100\n",
      "49/49 [==============================] - 0s 305us/sample - loss: 1.1288 - acc: 0.5918\n",
      "Epoch 77/100\n",
      "49/49 [==============================] - 0s 346us/sample - loss: 1.1092 - acc: 0.5714\n",
      "Epoch 78/100\n",
      "49/49 [==============================] - 0s 305us/sample - loss: 1.1054 - acc: 0.5714\n",
      "Epoch 79/100\n",
      "49/49 [==============================] - 0s 407us/sample - loss: 1.0783 - acc: 0.5918\n",
      "Epoch 80/100\n",
      "49/49 [==============================] - 0s 366us/sample - loss: 1.0568 - acc: 0.6122\n",
      "Epoch 81/100\n",
      "49/49 [==============================] - 0s 305us/sample - loss: 1.1102 - acc: 0.5714\n",
      "Epoch 82/100\n",
      "49/49 [==============================] - 0s 305us/sample - loss: 1.0820 - acc: 0.5918\n",
      "Epoch 83/100\n",
      "49/49 [==============================] - 0s 325us/sample - loss: 1.0757 - acc: 0.5918\n",
      "Epoch 84/100\n",
      "49/49 [==============================] - 0s 346us/sample - loss: 1.0622 - acc: 0.5510\n",
      "Epoch 85/100\n",
      "49/49 [==============================] - 0s 326us/sample - loss: 1.0770 - acc: 0.5714\n",
      "Epoch 86/100\n",
      "49/49 [==============================] - 0s 305us/sample - loss: 1.0587 - acc: 0.6122\n",
      "Epoch 87/100\n",
      "49/49 [==============================] - 0s 326us/sample - loss: 1.0260 - acc: 0.6122\n",
      "Epoch 88/100\n",
      "49/49 [==============================] - 0s 285us/sample - loss: 1.0486 - acc: 0.6122\n",
      "Epoch 89/100\n",
      "49/49 [==============================] - 0s 346us/sample - loss: 1.0375 - acc: 0.5918\n",
      "Epoch 90/100\n",
      "49/49 [==============================] - 0s 387us/sample - loss: 1.0404 - acc: 0.6327\n",
      "Epoch 91/100\n",
      "49/49 [==============================] - 0s 285us/sample - loss: 1.0322 - acc: 0.5918\n",
      "Epoch 92/100\n",
      "49/49 [==============================] - 0s 366us/sample - loss: 1.0070 - acc: 0.6735\n",
      "Epoch 93/100\n",
      "49/49 [==============================] - 0s 346us/sample - loss: 1.0225 - acc: 0.6327\n",
      "Epoch 94/100\n",
      "49/49 [==============================] - 0s 244us/sample - loss: 1.0286 - acc: 0.6327\n",
      "Epoch 95/100\n",
      "49/49 [==============================] - 0s 285us/sample - loss: 1.0130 - acc: 0.5918\n",
      "Epoch 96/100\n",
      "49/49 [==============================] - 0s 336us/sample - loss: 1.0266 - acc: 0.5510\n",
      "Epoch 97/100\n",
      "49/49 [==============================] - 0s 285us/sample - loss: 0.9919 - acc: 0.5714\n",
      "Epoch 98/100\n",
      "49/49 [==============================] - 0s 468us/sample - loss: 1.0149 - acc: 0.6531\n",
      "Epoch 99/100\n",
      "49/49 [==============================] - 0s 346us/sample - loss: 0.9809 - acc: 0.6735\n",
      "Epoch 100/100\n",
      "49/49 [==============================] - 0s 305us/sample - loss: 0.9753 - acc: 0.6327\n",
      "\u001b[94mCore model training completed.\u001b[0m\n",
      "\u001b[94mTraining NLU model...\u001b[0m\n",
      "WARNING:tensorflow:From c:\\users\\durantga\\appdata\\local\\continuum\\anaconda3\\envs\\courssup\\lib\\site-packages\\rasa\\nlu\\classifiers\\embedding_intent_classifier.py:736: The name tf.placeholder is deprecated. Please use tf.compat.v1.placeholder instead.\n",
      "\n"
     ]
    },
    {
     "name": "stderr",
     "output_type": "stream",
     "text": [
      "WARNING:tensorflow:From c:\\users\\durantga\\appdata\\local\\continuum\\anaconda3\\envs\\courssup\\lib\\site-packages\\rasa\\nlu\\classifiers\\embedding_intent_classifier.py:736: The name tf.placeholder is deprecated. Please use tf.compat.v1.placeholder instead.\n",
      "\n"
     ]
    },
    {
     "name": "stdout",
     "output_type": "stream",
     "text": [
      "WARNING:tensorflow:From c:\\users\\durantga\\appdata\\local\\continuum\\anaconda3\\envs\\courssup\\lib\\site-packages\\rasa\\utils\\train_utils.py:518: The name tf.data.Iterator is deprecated. Please use tf.compat.v1.data.Iterator instead.\n",
      "\n"
     ]
    },
    {
     "name": "stderr",
     "output_type": "stream",
     "text": [
      "WARNING:tensorflow:From c:\\users\\durantga\\appdata\\local\\continuum\\anaconda3\\envs\\courssup\\lib\\site-packages\\rasa\\utils\\train_utils.py:518: The name tf.data.Iterator is deprecated. Please use tf.compat.v1.data.Iterator instead.\n",
      "\n"
     ]
    },
    {
     "name": "stdout",
     "output_type": "stream",
     "text": [
      "WARNING:tensorflow:From c:\\users\\durantga\\appdata\\local\\continuum\\anaconda3\\envs\\courssup\\lib\\site-packages\\rasa\\utils\\train_utils.py:519: DatasetV1.output_types (from tensorflow.python.data.ops.dataset_ops) is deprecated and will be removed in a future version.\n",
      "Instructions for updating:\n",
      "Use `tf.compat.v1.data.get_output_types(dataset)`.\n"
     ]
    },
    {
     "name": "stderr",
     "output_type": "stream",
     "text": [
      "WARNING:tensorflow:From c:\\users\\durantga\\appdata\\local\\continuum\\anaconda3\\envs\\courssup\\lib\\site-packages\\rasa\\utils\\train_utils.py:519: DatasetV1.output_types (from tensorflow.python.data.ops.dataset_ops) is deprecated and will be removed in a future version.\n",
      "Instructions for updating:\n",
      "Use `tf.compat.v1.data.get_output_types(dataset)`.\n"
     ]
    },
    {
     "name": "stdout",
     "output_type": "stream",
     "text": [
      "WARNING:tensorflow:From c:\\users\\durantga\\appdata\\local\\continuum\\anaconda3\\envs\\courssup\\lib\\site-packages\\rasa\\utils\\train_utils.py:519: DatasetV1.output_shapes (from tensorflow.python.data.ops.dataset_ops) is deprecated and will be removed in a future version.\n",
      "Instructions for updating:\n",
      "Use `tf.compat.v1.data.get_output_shapes(dataset)`.\n"
     ]
    },
    {
     "name": "stderr",
     "output_type": "stream",
     "text": [
      "WARNING:tensorflow:From c:\\users\\durantga\\appdata\\local\\continuum\\anaconda3\\envs\\courssup\\lib\\site-packages\\rasa\\utils\\train_utils.py:519: DatasetV1.output_shapes (from tensorflow.python.data.ops.dataset_ops) is deprecated and will be removed in a future version.\n",
      "Instructions for updating:\n",
      "Use `tf.compat.v1.data.get_output_shapes(dataset)`.\n"
     ]
    },
    {
     "name": "stdout",
     "output_type": "stream",
     "text": [
      "WARNING:tensorflow:From c:\\users\\durantga\\appdata\\local\\continuum\\anaconda3\\envs\\courssup\\lib\\site-packages\\tensorflow_core\\python\\data\\ops\\iterator_ops.py:347: Iterator.output_types (from tensorflow.python.data.ops.iterator_ops) is deprecated and will be removed in a future version.\n",
      "Instructions for updating:\n",
      "Use `tf.compat.v1.data.get_output_types(iterator)`.\n"
     ]
    },
    {
     "name": "stderr",
     "output_type": "stream",
     "text": [
      "WARNING:tensorflow:From c:\\users\\durantga\\appdata\\local\\continuum\\anaconda3\\envs\\courssup\\lib\\site-packages\\tensorflow_core\\python\\data\\ops\\iterator_ops.py:347: Iterator.output_types (from tensorflow.python.data.ops.iterator_ops) is deprecated and will be removed in a future version.\n",
      "Instructions for updating:\n",
      "Use `tf.compat.v1.data.get_output_types(iterator)`.\n"
     ]
    },
    {
     "name": "stdout",
     "output_type": "stream",
     "text": [
      "WARNING:tensorflow:From c:\\users\\durantga\\appdata\\local\\continuum\\anaconda3\\envs\\courssup\\lib\\site-packages\\tensorflow_core\\python\\data\\ops\\iterator_ops.py:348: Iterator.output_shapes (from tensorflow.python.data.ops.iterator_ops) is deprecated and will be removed in a future version.\n",
      "Instructions for updating:\n",
      "Use `tf.compat.v1.data.get_output_shapes(iterator)`.\n"
     ]
    },
    {
     "name": "stderr",
     "output_type": "stream",
     "text": [
      "WARNING:tensorflow:From c:\\users\\durantga\\appdata\\local\\continuum\\anaconda3\\envs\\courssup\\lib\\site-packages\\tensorflow_core\\python\\data\\ops\\iterator_ops.py:348: Iterator.output_shapes (from tensorflow.python.data.ops.iterator_ops) is deprecated and will be removed in a future version.\n",
      "Instructions for updating:\n",
      "Use `tf.compat.v1.data.get_output_shapes(iterator)`.\n"
     ]
    },
    {
     "name": "stdout",
     "output_type": "stream",
     "text": [
      "WARNING:tensorflow:From c:\\users\\durantga\\appdata\\local\\continuum\\anaconda3\\envs\\courssup\\lib\\site-packages\\tensorflow_core\\python\\data\\ops\\iterator_ops.py:350: Iterator.output_classes (from tensorflow.python.data.ops.iterator_ops) is deprecated and will be removed in a future version.\n",
      "Instructions for updating:\n",
      "Use `tf.compat.v1.data.get_output_classes(iterator)`.\n"
     ]
    },
    {
     "name": "stderr",
     "output_type": "stream",
     "text": [
      "WARNING:tensorflow:From c:\\users\\durantga\\appdata\\local\\continuum\\anaconda3\\envs\\courssup\\lib\\site-packages\\tensorflow_core\\python\\data\\ops\\iterator_ops.py:350: Iterator.output_classes (from tensorflow.python.data.ops.iterator_ops) is deprecated and will be removed in a future version.\n",
      "Instructions for updating:\n",
      "Use `tf.compat.v1.data.get_output_classes(iterator)`.\n"
     ]
    },
    {
     "name": "stdout",
     "output_type": "stream",
     "text": [
      "WARNING:tensorflow:From c:\\users\\durantga\\appdata\\local\\continuum\\anaconda3\\envs\\courssup\\lib\\site-packages\\rasa\\nlu\\classifiers\\embedding_intent_classifier.py:750: The name tf.placeholder_with_default is deprecated. Please use tf.compat.v1.placeholder_with_default instead.\n",
      "\n"
     ]
    },
    {
     "name": "stderr",
     "output_type": "stream",
     "text": [
      "WARNING:tensorflow:From c:\\users\\durantga\\appdata\\local\\continuum\\anaconda3\\envs\\courssup\\lib\\site-packages\\rasa\\nlu\\classifiers\\embedding_intent_classifier.py:750: The name tf.placeholder_with_default is deprecated. Please use tf.compat.v1.placeholder_with_default instead.\n",
      "\n"
     ]
    },
    {
     "name": "stdout",
     "output_type": "stream",
     "text": [
      "WARNING:tensorflow:From c:\\users\\durantga\\appdata\\local\\continuum\\anaconda3\\envs\\courssup\\lib\\site-packages\\rasa\\utils\\train_utils.py:548: The name tf.variable_scope is deprecated. Please use tf.compat.v1.variable_scope instead.\n",
      "\n"
     ]
    },
    {
     "name": "stderr",
     "output_type": "stream",
     "text": [
      "WARNING:tensorflow:From c:\\users\\durantga\\appdata\\local\\continuum\\anaconda3\\envs\\courssup\\lib\\site-packages\\rasa\\utils\\train_utils.py:548: The name tf.variable_scope is deprecated. Please use tf.compat.v1.variable_scope instead.\n",
      "\n"
     ]
    },
    {
     "name": "stdout",
     "output_type": "stream",
     "text": [
      "WARNING:tensorflow:From c:\\users\\durantga\\appdata\\local\\continuum\\anaconda3\\envs\\courssup\\lib\\site-packages\\rasa\\utils\\train_utils.py:548: The name tf.AUTO_REUSE is deprecated. Please use tf.compat.v1.AUTO_REUSE instead.\n",
      "\n"
     ]
    },
    {
     "name": "stderr",
     "output_type": "stream",
     "text": [
      "WARNING:tensorflow:From c:\\users\\durantga\\appdata\\local\\continuum\\anaconda3\\envs\\courssup\\lib\\site-packages\\rasa\\utils\\train_utils.py:548: The name tf.AUTO_REUSE is deprecated. Please use tf.compat.v1.AUTO_REUSE instead.\n",
      "\n"
     ]
    },
    {
     "name": "stdout",
     "output_type": "stream",
     "text": [
      "WARNING:tensorflow:From c:\\users\\durantga\\appdata\\local\\continuum\\anaconda3\\envs\\courssup\\lib\\site-packages\\rasa\\utils\\train_utils.py:550: The name tf.get_variable is deprecated. Please use tf.compat.v1.get_variable instead.\n",
      "\n"
     ]
    },
    {
     "name": "stderr",
     "output_type": "stream",
     "text": [
      "WARNING:tensorflow:From c:\\users\\durantga\\appdata\\local\\continuum\\anaconda3\\envs\\courssup\\lib\\site-packages\\rasa\\utils\\train_utils.py:550: The name tf.get_variable is deprecated. Please use tf.compat.v1.get_variable instead.\n",
      "\n"
     ]
    },
    {
     "name": "stdout",
     "output_type": "stream",
     "text": [
      "WARNING:tensorflow:From c:\\users\\durantga\\appdata\\local\\continuum\\anaconda3\\envs\\courssup\\lib\\site-packages\\rasa\\utils\\train_utils.py:559: The name tf.sparse.matmul is deprecated. Please use tf.sparse.sparse_dense_matmul instead.\n",
      "\n"
     ]
    },
    {
     "name": "stderr",
     "output_type": "stream",
     "text": [
      "WARNING:tensorflow:From c:\\users\\durantga\\appdata\\local\\continuum\\anaconda3\\envs\\courssup\\lib\\site-packages\\rasa\\utils\\train_utils.py:559: The name tf.sparse.matmul is deprecated. Please use tf.sparse.sparse_dense_matmul instead.\n",
      "\n"
     ]
    },
    {
     "name": "stdout",
     "output_type": "stream",
     "text": [
      "WARNING:tensorflow:From c:\\users\\durantga\\appdata\\local\\continuum\\anaconda3\\envs\\courssup\\lib\\site-packages\\rasa\\utils\\train_utils.py:603: dense (from tensorflow.python.layers.core) is deprecated and will be removed in a future version.\n",
      "Instructions for updating:\n",
      "Use keras.layers.Dense instead.\n"
     ]
    },
    {
     "name": "stderr",
     "output_type": "stream",
     "text": [
      "WARNING:tensorflow:From c:\\users\\durantga\\appdata\\local\\continuum\\anaconda3\\envs\\courssup\\lib\\site-packages\\rasa\\utils\\train_utils.py:603: dense (from tensorflow.python.layers.core) is deprecated and will be removed in a future version.\n",
      "Instructions for updating:\n",
      "Use keras.layers.Dense instead.\n"
     ]
    },
    {
     "name": "stdout",
     "output_type": "stream",
     "text": [
      "WARNING:tensorflow:From c:\\users\\durantga\\appdata\\local\\continuum\\anaconda3\\envs\\courssup\\lib\\site-packages\\tensorflow_core\\python\\layers\\core.py:187: Layer.apply (from tensorflow.python.keras.engine.base_layer) is deprecated and will be removed in a future version.\n",
      "Instructions for updating:\n",
      "Please use `layer.__call__` method instead.\n"
     ]
    },
    {
     "name": "stderr",
     "output_type": "stream",
     "text": [
      "WARNING:tensorflow:From c:\\users\\durantga\\appdata\\local\\continuum\\anaconda3\\envs\\courssup\\lib\\site-packages\\tensorflow_core\\python\\layers\\core.py:187: Layer.apply (from tensorflow.python.keras.engine.base_layer) is deprecated and will be removed in a future version.\n",
      "Instructions for updating:\n",
      "Please use `layer.__call__` method instead.\n"
     ]
    },
    {
     "name": "stdout",
     "output_type": "stream",
     "text": [
      "WARNING:tensorflow:From c:\\users\\durantga\\appdata\\local\\continuum\\anaconda3\\envs\\courssup\\lib\\site-packages\\rasa\\utils\\train_utils.py:605: dropout (from tensorflow.python.layers.core) is deprecated and will be removed in a future version.\n",
      "Instructions for updating:\n",
      "Use keras.layers.dropout instead.\n"
     ]
    },
    {
     "name": "stderr",
     "output_type": "stream",
     "text": [
      "WARNING:tensorflow:From c:\\users\\durantga\\appdata\\local\\continuum\\anaconda3\\envs\\courssup\\lib\\site-packages\\rasa\\utils\\train_utils.py:605: dropout (from tensorflow.python.layers.core) is deprecated and will be removed in a future version.\n",
      "Instructions for updating:\n",
      "Use keras.layers.dropout instead.\n"
     ]
    },
    {
     "name": "stdout",
     "output_type": "stream",
     "text": [
      "WARNING:tensorflow:From c:\\users\\durantga\\appdata\\local\\continuum\\anaconda3\\envs\\courssup\\lib\\site-packages\\tensorflow_core\\python\\util\\dispatch.py:180: batch_gather (from tensorflow.python.ops.array_ops) is deprecated and will be removed after 2017-10-25.\n",
      "Instructions for updating:\n",
      "`tf.batch_gather` is deprecated, please use `tf.gather` with `batch_dims=-1` instead.\n"
     ]
    },
    {
     "name": "stderr",
     "output_type": "stream",
     "text": [
      "WARNING:tensorflow:From c:\\users\\durantga\\appdata\\local\\continuum\\anaconda3\\envs\\courssup\\lib\\site-packages\\tensorflow_core\\python\\util\\dispatch.py:180: batch_gather (from tensorflow.python.ops.array_ops) is deprecated and will be removed after 2017-10-25.\n",
      "Instructions for updating:\n",
      "`tf.batch_gather` is deprecated, please use `tf.gather` with `batch_dims=-1` instead.\n"
     ]
    },
    {
     "name": "stdout",
     "output_type": "stream",
     "text": [
      "WARNING:tensorflow:From c:\\users\\durantga\\appdata\\local\\continuum\\anaconda3\\envs\\courssup\\lib\\site-packages\\rasa\\utils\\train_utils.py:984: The name tf.losses.softmax_cross_entropy is deprecated. Please use tf.compat.v1.losses.softmax_cross_entropy instead.\n",
      "\n"
     ]
    },
    {
     "name": "stderr",
     "output_type": "stream",
     "text": [
      "WARNING:tensorflow:From c:\\users\\durantga\\appdata\\local\\continuum\\anaconda3\\envs\\courssup\\lib\\site-packages\\rasa\\utils\\train_utils.py:984: The name tf.losses.softmax_cross_entropy is deprecated. Please use tf.compat.v1.losses.softmax_cross_entropy instead.\n",
      "\n"
     ]
    },
    {
     "name": "stdout",
     "output_type": "stream",
     "text": [
      "WARNING:tensorflow:From c:\\users\\durantga\\appdata\\local\\continuum\\anaconda3\\envs\\courssup\\lib\\site-packages\\rasa\\utils\\train_utils.py:986: The name tf.losses.get_regularization_loss is deprecated. Please use tf.compat.v1.losses.get_regularization_loss instead.\n",
      "\n"
     ]
    },
    {
     "name": "stderr",
     "output_type": "stream",
     "text": [
      "WARNING:tensorflow:From c:\\users\\durantga\\appdata\\local\\continuum\\anaconda3\\envs\\courssup\\lib\\site-packages\\rasa\\utils\\train_utils.py:986: The name tf.losses.get_regularization_loss is deprecated. Please use tf.compat.v1.losses.get_regularization_loss instead.\n",
      "\n"
     ]
    },
    {
     "name": "stdout",
     "output_type": "stream",
     "text": [
      "WARNING:tensorflow:From c:\\users\\durantga\\appdata\\local\\continuum\\anaconda3\\envs\\courssup\\lib\\site-packages\\rasa\\nlu\\classifiers\\embedding_intent_classifier.py:758: The name tf.Session is deprecated. Please use tf.compat.v1.Session instead.\n",
      "\n"
     ]
    },
    {
     "name": "stderr",
     "output_type": "stream",
     "text": [
      "WARNING:tensorflow:From c:\\users\\durantga\\appdata\\local\\continuum\\anaconda3\\envs\\courssup\\lib\\site-packages\\rasa\\nlu\\classifiers\\embedding_intent_classifier.py:758: The name tf.Session is deprecated. Please use tf.compat.v1.Session instead.\n",
      "\n"
     ]
    },
    {
     "name": "stdout",
     "output_type": "stream",
     "text": [
      "WARNING:tensorflow:From c:\\users\\durantga\\appdata\\local\\continuum\\anaconda3\\envs\\courssup\\lib\\site-packages\\rasa\\utils\\train_utils.py:1168: The name tf.global_variables_initializer is deprecated. Please use tf.compat.v1.global_variables_initializer instead.\n",
      "\n"
     ]
    },
    {
     "name": "stderr",
     "output_type": "stream",
     "text": [
      "WARNING:tensorflow:From c:\\users\\durantga\\appdata\\local\\continuum\\anaconda3\\envs\\courssup\\lib\\site-packages\\rasa\\utils\\train_utils.py:1168: The name tf.global_variables_initializer is deprecated. Please use tf.compat.v1.global_variables_initializer instead.\n",
      "\n",
      "Epochs: 100%|█████████████████████████████████████████████████| 300/300 [00:31<00:00,  9.53it/s, loss=0.515, acc=1.000]\n"
     ]
    },
    {
     "name": "stdout",
     "output_type": "stream",
     "text": [
      "WARNING:tensorflow:From c:\\users\\durantga\\appdata\\local\\continuum\\anaconda3\\envs\\courssup\\lib\\site-packages\\rasa\\nlu\\classifiers\\embedding_intent_classifier.py:882: The name tf.train.Saver is deprecated. Please use tf.compat.v1.train.Saver instead.\n",
      "\n"
     ]
    },
    {
     "name": "stderr",
     "output_type": "stream",
     "text": [
      "WARNING:tensorflow:From c:\\users\\durantga\\appdata\\local\\continuum\\anaconda3\\envs\\courssup\\lib\\site-packages\\rasa\\nlu\\classifiers\\embedding_intent_classifier.py:882: The name tf.train.Saver is deprecated. Please use tf.compat.v1.train.Saver instead.\n",
      "\n"
     ]
    },
    {
     "name": "stdout",
     "output_type": "stream",
     "text": [
      "\u001b[94mNLU model training completed.\u001b[0m\n",
      "\u001b[92mYour Rasa model is trained and saved at 'C:\\Users\\DURANTGA\\Documents\\Pédagogie\\MLclass\\12 - Natural Language Processing\\chatbot_projects\\2_obnoxious_clockbot\\models\\20201130-151036.tar.gz'.\u001b[0m\n"
     ]
    }
   ],
   "source": [
    "#training the model and saving the path where the model is stored\n",
    "model_path = rasa.train(domain, config, [training_files], output)"
   ]
  },
  {
   "cell_type": "markdown",
   "metadata": {},
   "source": [
    "The two cells below run the polite scenario (greeting + asking for time) and the impolite one (asking for time directly).\n",
    "We confirm here that the bot behaves differently in those cases."
   ]
  },
  {
   "cell_type": "code",
   "execution_count": 14,
   "metadata": {},
   "outputs": [
    {
     "name": "stdout",
     "output_type": "stream",
     "text": [
      "INFO:tensorflow:Restoring parameters from C:\\Users\\DURANTGA\\AppData\\Local\\Temp\\1\\tmpgfmv035f\\nlu\\component_6_EmbeddingIntentClassifier.ckpt\n"
     ]
    },
    {
     "name": "stderr",
     "output_type": "stream",
     "text": [
      "INFO:tensorflow:Restoring parameters from C:\\Users\\DURANTGA\\AppData\\Local\\Temp\\1\\tmpgfmv035f\\nlu\\component_6_EmbeddingIntentClassifier.ckpt\n"
     ]
    },
    {
     "name": "stdout",
     "output_type": "stream",
     "text": [
      "[{'recipient_id': 'default', 'text': 'Bien le bonjour !'}]\n",
      "[{'recipient_id': 'default', 'text': 'Il est 10h'}]\n"
     ]
    }
   ],
   "source": [
    "agent=Agent.load(model_path)\n",
    "print(await agent.handle_text(\"slt\"))\n",
    "print(await agent.handle_text(\"il est kel h ?\"))"
   ]
  },
  {
   "cell_type": "code",
   "execution_count": 15,
   "metadata": {},
   "outputs": [
    {
     "name": "stdout",
     "output_type": "stream",
     "text": [
      "INFO:tensorflow:Restoring parameters from C:\\Users\\DURANTGA\\AppData\\Local\\Temp\\1\\tmp2d086qyz\\nlu\\component_6_EmbeddingIntentClassifier.ckpt\n"
     ]
    },
    {
     "name": "stderr",
     "output_type": "stream",
     "text": [
      "INFO:tensorflow:Restoring parameters from C:\\Users\\DURANTGA\\AppData\\Local\\Temp\\1\\tmp2d086qyz\\nlu\\component_6_EmbeddingIntentClassifier.ckpt\n"
     ]
    },
    {
     "name": "stdout",
     "output_type": "stream",
     "text": [
      "[{'recipient_id': 'default', 'text': 'Tu pourrais au moins me dire bonjour !'}]\n"
     ]
    }
   ],
   "source": [
    "agent=Agent.load(model_path)\n",
    "print(await agent.handle_text(\"il est kel h ?\"))"
   ]
  },
  {
   "cell_type": "markdown",
   "metadata": {},
   "source": [
    "# 4. Adding entities\n",
    "\n",
    "In this example, we will add **Named Entity extraction** to the bot. \n",
    "\n",
    "Named Entities can be viewed as instances of linguistic classes. For instance, there is an inifinite number of ways through which one might refer to a Location. Some examples could be \"Paris\", \"my house\", \"Japan\", \"the restaurant I like on Main Street\", etc... From a Named Entity Recognition (NER) perspective, all these examples would be specific **values** (or synonyms) refering to the **entity** \"location\".\n",
    "\n",
    "## 4.a How are entities extracted by Rasa ?\n",
    "\n",
    "### Symbolic approach\n",
    "\n",
    "The simplest way of approaching Named Entity Extraction is to define all synonyms of an entity manually. In this case, the user would type all possible values of an entity manually. The extraction of these entities would then be performed by matching words in an utterance with the list of synonyms.\n",
    "\n",
    "There are some cases where this mode of definition is appropriate. For instance, to define the entity \"*means of payment*\", there are only limited options (*cash*,*cheque*,*credit card*,*debit card*...). This approach, however, has two main issues :\n",
    "- the maintenance of synonym lists can quickly become impossible (for instance when defining entities corresponding to person or loction names)\n",
    "- this approach is not resilient to spelling variants (e.g. typing \"crdt card\" instead of \"credit card\"). \n",
    "\n",
    "The second issue can be mitigated by introducing \"flexible\" or \"fuzzy\" matching for entities (i.e. considering that a word that differs by only one character from one of the synonyms is still a match). However, in many cases, this is still imperfect.\n",
    "\n",
    "### Statistical approach\n",
    "\n",
    "Rasa relies on **extractors** for entities. For instance, the default CRFExtractor uses Conditional Random Fields fitted on word embeddings to predict whether a given word is an entity. In practice, that means that entities are detected using their representation, as well as the representations of the words in their surrounding.  \n",
    "\n",
    "In our case, using this approach means that giving enough examples in the form \"Quelle heure est-il à Paris\", \"quelle heure est-il à Londres\", etc... will enable the extractor to understand that in the pattern \"quelle heure est-il à ....\", the word following \"à\" is a \"location\".\n",
    "\n",
    "## 4.b. Defining location entities for our chatbot\n",
    "\n",
    "We propose to add the capacity to ask what the time is at a given location to our chatbot."
   ]
  },
  {
   "cell_type": "code",
   "execution_count": 16,
   "metadata": {},
   "outputs": [],
   "source": [
    "#project location\n",
    "project = \"chatbot_projects/3_obnoxious_clockbot_with_entities/\"\n",
    "\n",
    "#path to config, domain, nlu and stories files\n",
    "config = project+\"config.yml\"\n",
    "domain = project+\"domain.yml\"\n",
    "training_files = project+\"data/\"\n",
    "\n",
    "#where to store the models\n",
    "output = project+\"models/\""
   ]
  },
  {
   "cell_type": "markdown",
   "metadata": {},
   "source": [
    "The initial modification is located in the **domain** file, where the entity type \"*location*\" is defined. We also use the value of this entity in the \"*utter_time*\" utterance.\n",
    "```\n",
    "entities:\n",
    "  - location\n",
    "\n",
    "[...]\n",
    "\n",
    "  utter_time:\n",
    "  - text: \"Il est 10h à {location}\"\n",
    "```\n",
    "\n",
    "The training data in the **nlu** file is also modified to reflect this change :\n",
    "\n",
    "```\n",
    "## intent:ask_time\n",
    "- il est quelle heure à [New York](location)\n",
    "- quelle heure est-il à [Paris](location)\n",
    "- quelle heure est-il à [Séoul](location)\n",
    "- t'as l'heure de [Tokyo](location) stp ?\n",
    "- heure de [Lyon](location)\n",
    "```\n",
    "\n",
    "In the above examples, the sentence ```Quelle heure est-il à [Lyon](location)``` should be read as \"*Quelle heure est-il à Lyon*\", but where Lyon is an instance of the \"location\" entity.\n",
    "More information about the format of training data can be found in [the documentation](https://rasa.com/docs/rasa/nlu/training-data-format/).\n",
    "\n",
    "## 4.c. Training and testing the chatbot"
   ]
  },
  {
   "cell_type": "code",
   "execution_count": 17,
   "metadata": {},
   "outputs": [
    {
     "name": "stderr",
     "output_type": "stream",
     "text": [
      "Processed Story Blocks: 100%|█████████████████████████████████████████████| 3/3 [00:00<00:00, 231.35it/s, # trackers=1]\n",
      "Processed Story Blocks: 100%|█████████████████████████████████████████████| 3/3 [00:00<00:00, 231.35it/s, # trackers=3]\n",
      "Processed Story Blocks: 100%|████████████████████████████████████████████| 3/3 [00:00<00:00, 107.42it/s, # trackers=12]"
     ]
    },
    {
     "name": "stdout",
     "output_type": "stream",
     "text": [
      "\u001b[94mTraining Core model...\u001b[0m\n"
     ]
    },
    {
     "name": "stderr",
     "output_type": "stream",
     "text": [
      "\n",
      "Processed Story Blocks: 100%|█████████████████████████████████████████████| 3/3 [00:00<00:00, 65.39it/s, # trackers=28]\n",
      "Processed trackers: 100%|███████████████████████████████████████████████████| 3/3 [00:00<00:00, 91.15it/s, # actions=7]\n",
      "Processed actions: 7it [00:00, 233.93it/s, # examples=7]\n",
      "Processed trackers: 100%|██████████████████████████████████████████████| 110/110 [00:02<00:00, 47.02it/s, # actions=73]\n"
     ]
    },
    {
     "name": "stdout",
     "output_type": "stream",
     "text": [
      "Model: \"sequential\"\n",
      "_________________________________________________________________\n",
      "Layer (type)                 Output Shape              Param #   \n",
      "=================================================================\n",
      "masking (Masking)            (None, 5, 16)             0         \n",
      "_________________________________________________________________\n",
      "lstm (LSTM)                  (None, 32)                6272      \n",
      "_________________________________________________________________\n",
      "dense (Dense)                (None, 12)                396       \n",
      "_________________________________________________________________\n",
      "activation (Activation)      (None, 12)                0         \n",
      "=================================================================\n",
      "Total params: 6,668\n",
      "Trainable params: 6,668\n",
      "Non-trainable params: 0\n",
      "_________________________________________________________________\n",
      "Train on 73 samples\n",
      "Epoch 1/100\n",
      "73/73 [==============================] - 1s 8ms/sample - loss: 2.3617 - acc: 0.3562\n",
      "Epoch 2/100\n",
      "73/73 [==============================] - 0s 383us/sample - loss: 2.2693 - acc: 0.4658\n",
      "Epoch 3/100\n",
      "73/73 [==============================] - 0s 314us/sample - loss: 2.2042 - acc: 0.4795\n",
      "Epoch 4/100\n",
      "73/73 [==============================] - 0s 437us/sample - loss: 2.1436 - acc: 0.4932\n",
      "Epoch 5/100\n",
      "73/73 [==============================] - 0s 369us/sample - loss: 2.0847 - acc: 0.5068\n",
      "Epoch 6/100\n",
      "73/73 [==============================] - 0s 355us/sample - loss: 2.0372 - acc: 0.4932\n",
      "Epoch 7/100\n",
      "73/73 [==============================] - 0s 342us/sample - loss: 1.9798 - acc: 0.4932\n",
      "Epoch 8/100\n",
      "73/73 [==============================] - 0s 424us/sample - loss: 1.8675 - acc: 0.5068\n",
      "Epoch 9/100\n",
      "73/73 [==============================] - 0s 260us/sample - loss: 1.8226 - acc: 0.5068\n",
      "Epoch 10/100\n",
      "73/73 [==============================] - 0s 219us/sample - loss: 1.7541 - acc: 0.5068\n",
      "Epoch 11/100\n",
      "73/73 [==============================] - 0s 314us/sample - loss: 1.6768 - acc: 0.5068\n",
      "Epoch 12/100\n",
      "73/73 [==============================] - 0s 465us/sample - loss: 1.6490 - acc: 0.5068\n",
      "Epoch 13/100\n",
      "73/73 [==============================] - 0s 253us/sample - loss: 1.5745 - acc: 0.5068\n",
      "Epoch 14/100\n",
      "73/73 [==============================] - 0s 369us/sample - loss: 1.5045 - acc: 0.5068\n",
      "Epoch 15/100\n",
      "73/73 [==============================] - 0s 300us/sample - loss: 1.4874 - acc: 0.5068\n",
      "Epoch 16/100\n",
      "73/73 [==============================] - 0s 472us/sample - loss: 1.4455 - acc: 0.5068\n",
      "Epoch 17/100\n",
      "73/73 [==============================] - 0s 342us/sample - loss: 1.4258 - acc: 0.5068\n",
      "Epoch 18/100\n",
      "73/73 [==============================] - 0s 383us/sample - loss: 1.3907 - acc: 0.5068\n",
      "Epoch 19/100\n",
      "73/73 [==============================] - 0s 382us/sample - loss: 1.3743 - acc: 0.5068\n",
      "Epoch 20/100\n",
      "73/73 [==============================] - 0s 287us/sample - loss: 1.3455 - acc: 0.5068\n",
      "Epoch 21/100\n",
      "73/73 [==============================] - 0s 260us/sample - loss: 1.3402 - acc: 0.5068\n",
      "Epoch 22/100\n",
      "73/73 [==============================] - 0s 369us/sample - loss: 1.3287 - acc: 0.5068\n",
      "Epoch 23/100\n",
      "73/73 [==============================] - 0s 424us/sample - loss: 1.3080 - acc: 0.5068\n",
      "Epoch 24/100\n",
      "73/73 [==============================] - 0s 287us/sample - loss: 1.2828 - acc: 0.5068\n",
      "Epoch 25/100\n",
      "73/73 [==============================] - 0s 424us/sample - loss: 1.2745 - acc: 0.5068\n",
      "Epoch 26/100\n",
      "73/73 [==============================] - 0s 342us/sample - loss: 1.2851 - acc: 0.5068\n",
      "Epoch 27/100\n",
      "73/73 [==============================] - 0s 342us/sample - loss: 1.2572 - acc: 0.5068\n",
      "Epoch 28/100\n",
      "73/73 [==============================] - 0s 355us/sample - loss: 1.2609 - acc: 0.5068\n",
      "Epoch 29/100\n",
      "73/73 [==============================] - 0s 451us/sample - loss: 1.2417 - acc: 0.5068\n",
      "Epoch 30/100\n",
      "73/73 [==============================] - 0s 369us/sample - loss: 1.2328 - acc: 0.5068\n",
      "Epoch 31/100\n",
      "73/73 [==============================] - 0s 362us/sample - loss: 1.2170 - acc: 0.5068\n",
      "Epoch 32/100\n",
      "73/73 [==============================] - 0s 396us/sample - loss: 1.2144 - acc: 0.5068\n",
      "Epoch 33/100\n",
      "73/73 [==============================] - 0s 355us/sample - loss: 1.2055 - acc: 0.5068\n",
      "Epoch 34/100\n",
      "73/73 [==============================] - 0s 251us/sample - loss: 1.1863 - acc: 0.5068\n",
      "Epoch 35/100\n",
      "73/73 [==============================] - 0s 342us/sample - loss: 1.1862 - acc: 0.5068\n",
      "Epoch 36/100\n",
      "73/73 [==============================] - 0s 424us/sample - loss: 1.1669 - acc: 0.5068\n",
      "Epoch 37/100\n",
      "73/73 [==============================] - ETA: 0s - loss: 1.2610 - acc: 0.468 - 0s 280us/sample - loss: 1.1566 - acc: 0.5068\n",
      "Epoch 38/100\n",
      "73/73 [==============================] - 0s 369us/sample - loss: 1.1585 - acc: 0.5068\n",
      "Epoch 39/100\n",
      "73/73 [==============================] - 0s 260us/sample - loss: 1.1493 - acc: 0.5068\n",
      "Epoch 40/100\n",
      "73/73 [==============================] - 0s 376us/sample - loss: 1.1241 - acc: 0.5205\n",
      "Epoch 41/100\n",
      "73/73 [==============================] - 0s 328us/sample - loss: 1.1305 - acc: 0.5068\n",
      "Epoch 42/100\n",
      "73/73 [==============================] - 0s 314us/sample - loss: 1.1208 - acc: 0.5205\n",
      "Epoch 43/100\n",
      "73/73 [==============================] - 0s 314us/sample - loss: 1.1250 - acc: 0.5205\n",
      "Epoch 44/100\n",
      "73/73 [==============================] - 0s 301us/sample - loss: 1.1085 - acc: 0.5068\n",
      "Epoch 45/100\n",
      "73/73 [==============================] - 0s 451us/sample - loss: 1.1149 - acc: 0.5068\n",
      "Epoch 46/100\n",
      "73/73 [==============================] - 0s 369us/sample - loss: 1.0910 - acc: 0.5068\n",
      "Epoch 47/100\n",
      "73/73 [==============================] - 0s 328us/sample - loss: 1.1023 - acc: 0.5068\n",
      "Epoch 48/100\n",
      "73/73 [==============================] - 0s 396us/sample - loss: 1.0830 - acc: 0.5205\n",
      "Epoch 49/100\n",
      "73/73 [==============================] - 0s 287us/sample - loss: 1.0847 - acc: 0.5205\n",
      "Epoch 50/100\n",
      "73/73 [==============================] - 0s 369us/sample - loss: 1.0781 - acc: 0.5342\n",
      "Epoch 51/100\n",
      "73/73 [==============================] - 0s 328us/sample - loss: 1.0648 - acc: 0.5342\n",
      "Epoch 52/100\n",
      "73/73 [==============================] - 0s 697us/sample - loss: 1.0539 - acc: 0.5205\n",
      "Epoch 53/100\n",
      "73/73 [==============================] - 0s 342us/sample - loss: 1.0490 - acc: 0.5479\n",
      "Epoch 54/100\n",
      "73/73 [==============================] - 0s 369us/sample - loss: 1.0330 - acc: 0.5205\n",
      "Epoch 55/100\n",
      "73/73 [==============================] - 0s 287us/sample - loss: 1.0441 - acc: 0.5479\n",
      "Epoch 56/100\n",
      "73/73 [==============================] - 0s 383us/sample - loss: 1.0169 - acc: 0.5342\n",
      "Epoch 57/100\n",
      "73/73 [==============================] - 0s 410us/sample - loss: 1.0327 - acc: 0.5479\n",
      "Epoch 58/100\n",
      "73/73 [==============================] - 0s 328us/sample - loss: 0.9901 - acc: 0.5342\n",
      "Epoch 59/100\n",
      "73/73 [==============================] - 0s 301us/sample - loss: 0.9855 - acc: 0.5890\n",
      "Epoch 60/100\n",
      "73/73 [==============================] - 0s 246us/sample - loss: 0.9957 - acc: 0.5616\n",
      "Epoch 61/100\n",
      "73/73 [==============================] - 0s 301us/sample - loss: 0.9893 - acc: 0.5890\n",
      "Epoch 62/100\n",
      "73/73 [==============================] - 0s 314us/sample - loss: 0.9708 - acc: 0.6164\n",
      "Epoch 63/100\n",
      "73/73 [==============================] - 0s 355us/sample - loss: 0.9647 - acc: 0.6164\n",
      "Epoch 64/100\n",
      "73/73 [==============================] - 0s 383us/sample - loss: 0.9692 - acc: 0.6438\n",
      "Epoch 65/100\n",
      "73/73 [==============================] - 0s 232us/sample - loss: 0.9608 - acc: 0.5890\n",
      "Epoch 66/100\n",
      "73/73 [==============================] - 0s 328us/sample - loss: 0.9523 - acc: 0.6575\n",
      "Epoch 67/100\n",
      "73/73 [==============================] - 0s 328us/sample - loss: 0.9285 - acc: 0.7397\n",
      "Epoch 68/100\n",
      "73/73 [==============================] - 0s 301us/sample - loss: 0.9237 - acc: 0.7397\n",
      "Epoch 69/100\n",
      "73/73 [==============================] - 0s 328us/sample - loss: 0.9272 - acc: 0.7397\n",
      "Epoch 70/100\n",
      "73/73 [==============================] - 0s 287us/sample - loss: 0.9137 - acc: 0.6986\n",
      "Epoch 71/100\n",
      "73/73 [==============================] - 0s 260us/sample - loss: 0.8858 - acc: 0.7671\n",
      "Epoch 72/100\n",
      "73/73 [==============================] - 0s 383us/sample - loss: 0.8753 - acc: 0.7534\n",
      "Epoch 73/100\n",
      "73/73 [==============================] - 0s 342us/sample - loss: 0.9021 - acc: 0.6986\n",
      "Epoch 74/100\n",
      "73/73 [==============================] - 0s 287us/sample - loss: 0.8471 - acc: 0.8219\n",
      "Epoch 75/100\n",
      "73/73 [==============================] - 0s 328us/sample - loss: 0.8600 - acc: 0.7808\n",
      "Epoch 76/100\n",
      "73/73 [==============================] - 0s 273us/sample - loss: 0.8637 - acc: 0.7945\n",
      "Epoch 77/100\n",
      "73/73 [==============================] - 0s 369us/sample - loss: 0.8432 - acc: 0.7808\n",
      "Epoch 78/100\n",
      "73/73 [==============================] - 0s 369us/sample - loss: 0.8249 - acc: 0.8356\n",
      "Epoch 79/100\n",
      "73/73 [==============================] - 0s 369us/sample - loss: 0.8096 - acc: 0.8356\n",
      "Epoch 80/100\n",
      "73/73 [==============================] - 0s 355us/sample - loss: 0.8069 - acc: 0.8082\n",
      "Epoch 81/100\n",
      "73/73 [==============================] - 0s 424us/sample - loss: 0.8114 - acc: 0.8082\n",
      "Epoch 82/100\n",
      "73/73 [==============================] - 0s 492us/sample - loss: 0.7907 - acc: 0.8630\n",
      "Epoch 83/100\n",
      "73/73 [==============================] - 0s 369us/sample - loss: 0.7609 - acc: 0.8356\n",
      "Epoch 84/100\n",
      "73/73 [==============================] - 0s 355us/sample - loss: 0.7410 - acc: 0.8767\n",
      "Epoch 85/100\n",
      "73/73 [==============================] - 0s 369us/sample - loss: 0.7433 - acc: 0.8904\n",
      "Epoch 86/100\n",
      "73/73 [==============================] - 0s 355us/sample - loss: 0.7262 - acc: 0.8630\n",
      "Epoch 87/100\n",
      "73/73 [==============================] - 0s 458us/sample - loss: 0.7195 - acc: 0.8219\n",
      "Epoch 88/100\n",
      "73/73 [==============================] - 0s 424us/sample - loss: 0.7139 - acc: 0.8767\n",
      "Epoch 89/100\n",
      "73/73 [==============================] - 0s 287us/sample - loss: 0.7179 - acc: 0.8904\n",
      "Epoch 90/100\n",
      "73/73 [==============================] - 0s 280us/sample - loss: 0.6762 - acc: 0.8904\n",
      "Epoch 91/100\n",
      "73/73 [==============================] - 0s 301us/sample - loss: 0.6873 - acc: 0.8767\n",
      "Epoch 92/100\n",
      "73/73 [==============================] - 0s 273us/sample - loss: 0.6640 - acc: 0.8904\n",
      "Epoch 93/100\n",
      "73/73 [==============================] - 0s 328us/sample - loss: 0.6415 - acc: 0.8767\n",
      "Epoch 94/100\n",
      "73/73 [==============================] - 0s 314us/sample - loss: 0.6510 - acc: 0.8904\n",
      "Epoch 95/100\n",
      "73/73 [==============================] - 0s 287us/sample - loss: 0.5933 - acc: 0.9178\n",
      "Epoch 96/100\n",
      "73/73 [==============================] - 0s 328us/sample - loss: 0.6038 - acc: 0.8904\n",
      "Epoch 97/100\n",
      "73/73 [==============================] - 0s 273us/sample - loss: 0.5805 - acc: 0.9178\n",
      "Epoch 98/100\n",
      "73/73 [==============================] - 0s 287us/sample - loss: 0.5856 - acc: 0.8904\n",
      "Epoch 99/100\n",
      "73/73 [==============================] - 0s 301us/sample - loss: 0.5738 - acc: 0.9178\n",
      "Epoch 100/100\n",
      "73/73 [==============================] - 0s 342us/sample - loss: 0.5673 - acc: 0.9041\n",
      "\u001b[94mCore model training completed.\u001b[0m\n",
      "\u001b[94mTraining NLU model...\u001b[0m\n"
     ]
    },
    {
     "name": "stderr",
     "output_type": "stream",
     "text": [
      "Epochs: 100%|█████████████████████████████████████████████████| 300/300 [00:33<00:00,  8.98it/s, loss=0.595, acc=1.000]\n"
     ]
    },
    {
     "name": "stdout",
     "output_type": "stream",
     "text": [
      "\u001b[94mNLU model training completed.\u001b[0m\n",
      "\u001b[92mYour Rasa model is trained and saved at 'C:\\Users\\DURANTGA\\Documents\\Pédagogie\\MLclass\\12 - Natural Language Processing\\chatbot_projects\\3_obnoxious_clockbot_with_entities\\models\\20201130-151217.tar.gz'.\u001b[0m\n"
     ]
    }
   ],
   "source": [
    "#training the model and saving the path where the model is stored\n",
    "model_path = rasa.train(domain, config, [training_files], output)"
   ]
  },
  {
   "cell_type": "markdown",
   "metadata": {},
   "source": [
    "We then test the chatbot using a city name that was not present in the training set."
   ]
  },
  {
   "cell_type": "code",
   "execution_count": 18,
   "metadata": {},
   "outputs": [
    {
     "name": "stdout",
     "output_type": "stream",
     "text": [
      "INFO:tensorflow:Restoring parameters from C:\\Users\\DURANTGA\\AppData\\Local\\Temp\\1\\tmpgh2yrjig\\nlu\\component_6_EmbeddingIntentClassifier.ckpt\n"
     ]
    },
    {
     "name": "stderr",
     "output_type": "stream",
     "text": [
      "INFO:tensorflow:Restoring parameters from C:\\Users\\DURANTGA\\AppData\\Local\\Temp\\1\\tmpgh2yrjig\\nlu\\component_6_EmbeddingIntentClassifier.ckpt\n"
     ]
    },
    {
     "name": "stdout",
     "output_type": "stream",
     "text": [
      "[{'recipient_id': 'default', 'text': 'Bien le bonjour !'}]\n",
      "[{'recipient_id': 'default', 'text': 'Il est 10h à Toulouse'}]\n"
     ]
    }
   ],
   "source": [
    "agent=Agent.load(model_path)\n",
    "print(await agent.handle_text(\"salut\"))\n",
    "print(await agent.handle_text(\"il est quelle heure à Toulouse\"))"
   ]
  },
  {
   "cell_type": "markdown",
   "metadata": {},
   "source": [
    "On an individual utterance, we can check that the model has learned to recognize entities based on the sentence structure."
   ]
  },
  {
   "cell_type": "code",
   "execution_count": 19,
   "metadata": {},
   "outputs": [
    {
     "data": {
      "text/plain": [
       "{'intent': {'name': 'ask_time', 'confidence': 0.9700797200202942},\n",
       " 'entities': [{'start': 6,\n",
       "   'end': 14,\n",
       "   'value': 'Toulouse',\n",
       "   'entity': 'location',\n",
       "   'confidence': 0.7203844809327085,\n",
       "   'extractor': 'CRFEntityExtractor'}],\n",
       " 'intent_ranking': [{'name': 'ask_time', 'confidence': 0.9700797200202942},\n",
       "  {'name': 'greet', 'confidence': 0.029920265078544617}],\n",
       " 'text': 'kel h Toulouse'}"
      ]
     },
     "execution_count": 19,
     "metadata": {},
     "output_type": "execute_result"
    }
   ],
   "source": [
    "await agent.parse_message_using_nlu_interpreter(\"kel h Toulouse\")"
   ]
  },
  {
   "cell_type": "markdown",
   "metadata": {},
   "source": [
    "However, there is one major limitation : the example above does not work anymore when the city name is not capitalized (toulouse instead of Toulouse). In fact, EntityExtractors traditionnally use word shapes (e.g. patterns of lowercase or uppercase letters) as predictors. In our training data, nearly all city names are capitalized. One way to correct this mistake would be to multiply examples with various capitalizations. "
   ]
  },
  {
   "cell_type": "code",
   "execution_count": 20,
   "metadata": {},
   "outputs": [
    {
     "data": {
      "text/plain": [
       "{'intent': {'name': 'ask_time', 'confidence': 0.9700797200202942},\n",
       " 'entities': [],\n",
       " 'intent_ranking': [{'name': 'ask_time', 'confidence': 0.9700797200202942},\n",
       "  {'name': 'greet', 'confidence': 0.029920265078544617}],\n",
       " 'text': 'kel h toulouse'}"
      ]
     },
     "execution_count": 20,
     "metadata": {},
     "output_type": "execute_result"
    }
   ],
   "source": [
    "await agent.parse_message_using_nlu_interpreter(\"kel h toulouse\")"
   ]
  },
  {
   "cell_type": "code",
   "execution_count": null,
   "metadata": {},
   "outputs": [],
   "source": []
  }
 ],
 "metadata": {
  "kernelspec": {
   "display_name": "Python 3",
   "language": "python",
   "name": "python3"
  },
  "language_info": {
   "codemirror_mode": {
    "name": "ipython",
    "version": 3
   },
   "file_extension": ".py",
   "mimetype": "text/x-python",
   "name": "python",
   "nbconvert_exporter": "python",
   "pygments_lexer": "ipython3",
   "version": "3.8.3"
  }
 },
 "nbformat": 4,
 "nbformat_minor": 2
}
